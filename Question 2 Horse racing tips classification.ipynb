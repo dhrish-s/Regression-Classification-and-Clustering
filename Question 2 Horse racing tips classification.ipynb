{
 "cells": [
  {
   "cell_type": "markdown",
   "id": "351b8b2c",
   "metadata": {},
   "source": [
    "## Question 2 Horse racing tips classification"
   ]
  },
  {
   "cell_type": "markdown",
   "id": "0fe0024a",
   "metadata": {},
   "source": [
    "## Team Members\n",
    "Dhrish S Kumar - E0320008<br>\n",
    "A Ch Rohit - E0320022<br><br>\n",
    "Dataset - Horse racing tips"
   ]
  },
  {
   "cell_type": "markdown",
   "id": "a60734dd",
   "metadata": {},
   "source": [
    "## Importing Libraries"
   ]
  },
  {
   "cell_type": "code",
   "execution_count": 1,
   "id": "283b0398",
   "metadata": {},
   "outputs": [],
   "source": [
    "import pandas as pd\n",
    "import numpy as np\n",
    "import matplotlib.pyplot as plt"
   ]
  },
  {
   "cell_type": "code",
   "execution_count": 2,
   "id": "f0f7e1ea",
   "metadata": {},
   "outputs": [
    {
     "data": {
      "text/html": [
       "<div>\n",
       "<style scoped>\n",
       "    .dataframe tbody tr th:only-of-type {\n",
       "        vertical-align: middle;\n",
       "    }\n",
       "\n",
       "    .dataframe tbody tr th {\n",
       "        vertical-align: top;\n",
       "    }\n",
       "\n",
       "    .dataframe thead th {\n",
       "        text-align: right;\n",
       "    }\n",
       "</style>\n",
       "<table border=\"1\" class=\"dataframe\">\n",
       "  <thead>\n",
       "    <tr style=\"text-align: right;\">\n",
       "      <th></th>\n",
       "      <th>UID</th>\n",
       "      <th>ID</th>\n",
       "      <th>Tipster</th>\n",
       "      <th>Date</th>\n",
       "      <th>Track</th>\n",
       "      <th>Horse</th>\n",
       "      <th>Bet Type</th>\n",
       "      <th>Odds</th>\n",
       "      <th>Result</th>\n",
       "      <th>TipsterActive</th>\n",
       "    </tr>\n",
       "  </thead>\n",
       "  <tbody>\n",
       "    <tr>\n",
       "      <th>0</th>\n",
       "      <td>1</td>\n",
       "      <td>1</td>\n",
       "      <td>Tipster A</td>\n",
       "      <td>24/07/2015</td>\n",
       "      <td>Ascot</td>\n",
       "      <td>Fredricka</td>\n",
       "      <td>Win</td>\n",
       "      <td>8.00</td>\n",
       "      <td>Lose</td>\n",
       "      <td>True</td>\n",
       "    </tr>\n",
       "    <tr>\n",
       "      <th>1</th>\n",
       "      <td>2</td>\n",
       "      <td>2</td>\n",
       "      <td>Tipster A</td>\n",
       "      <td>24/07/2015</td>\n",
       "      <td>Thirsk</td>\n",
       "      <td>Spend A Penny</td>\n",
       "      <td>Win</td>\n",
       "      <td>4.50</td>\n",
       "      <td>Lose</td>\n",
       "      <td>True</td>\n",
       "    </tr>\n",
       "    <tr>\n",
       "      <th>2</th>\n",
       "      <td>3</td>\n",
       "      <td>3</td>\n",
       "      <td>Tipster A</td>\n",
       "      <td>24/07/2015</td>\n",
       "      <td>York</td>\n",
       "      <td>Straightothepoint</td>\n",
       "      <td>Win</td>\n",
       "      <td>7.00</td>\n",
       "      <td>Lose</td>\n",
       "      <td>True</td>\n",
       "    </tr>\n",
       "    <tr>\n",
       "      <th>3</th>\n",
       "      <td>4</td>\n",
       "      <td>4</td>\n",
       "      <td>Tipster A</td>\n",
       "      <td>24/07/2015</td>\n",
       "      <td>Newmarket</td>\n",
       "      <td>Miss Inga Sock</td>\n",
       "      <td>Win</td>\n",
       "      <td>5.00</td>\n",
       "      <td>Lose</td>\n",
       "      <td>True</td>\n",
       "    </tr>\n",
       "    <tr>\n",
       "      <th>4</th>\n",
       "      <td>5</td>\n",
       "      <td>5</td>\n",
       "      <td>Tipster A</td>\n",
       "      <td>25/07/2015</td>\n",
       "      <td>Ascot</td>\n",
       "      <td>Peril</td>\n",
       "      <td>Win</td>\n",
       "      <td>4.33</td>\n",
       "      <td>Win</td>\n",
       "      <td>True</td>\n",
       "    </tr>\n",
       "  </tbody>\n",
       "</table>\n",
       "</div>"
      ],
      "text/plain": [
       "   UID  ID    Tipster        Date      Track              Horse Bet Type  \\\n",
       "0    1   1  Tipster A  24/07/2015      Ascot          Fredricka      Win   \n",
       "1    2   2  Tipster A  24/07/2015     Thirsk      Spend A Penny      Win   \n",
       "2    3   3  Tipster A  24/07/2015       York  Straightothepoint      Win   \n",
       "3    4   4  Tipster A  24/07/2015  Newmarket     Miss Inga Sock      Win   \n",
       "4    5   5  Tipster A  25/07/2015      Ascot              Peril      Win   \n",
       "\n",
       "   Odds Result  TipsterActive  \n",
       "0  8.00   Lose           True  \n",
       "1  4.50   Lose           True  \n",
       "2  7.00   Lose           True  \n",
       "3  5.00   Lose           True  \n",
       "4  4.33    Win           True  "
      ]
     },
     "execution_count": 2,
     "metadata": {},
     "output_type": "execute_result"
    }
   ],
   "source": [
    "df=pd.read_csv(\"tips.csv\")\n",
    "df.head()"
   ]
  },
  {
   "cell_type": "code",
   "execution_count": 3,
   "id": "daf40e50",
   "metadata": {},
   "outputs": [
    {
     "data": {
      "text/plain": [
       "(38248, 10)"
      ]
     },
     "execution_count": 3,
     "metadata": {},
     "output_type": "execute_result"
    }
   ],
   "source": [
    "df.shape"
   ]
  },
  {
   "cell_type": "markdown",
   "id": "a6668862",
   "metadata": {},
   "source": [
    "## Data Cleaning and Data Preparation"
   ]
  },
  {
   "cell_type": "code",
   "execution_count": 4,
   "id": "e9c17366",
   "metadata": {},
   "outputs": [
    {
     "data": {
      "text/html": [
       "<div>\n",
       "<style scoped>\n",
       "    .dataframe tbody tr th:only-of-type {\n",
       "        vertical-align: middle;\n",
       "    }\n",
       "\n",
       "    .dataframe tbody tr th {\n",
       "        vertical-align: top;\n",
       "    }\n",
       "\n",
       "    .dataframe thead th {\n",
       "        text-align: right;\n",
       "    }\n",
       "</style>\n",
       "<table border=\"1\" class=\"dataframe\">\n",
       "  <thead>\n",
       "    <tr style=\"text-align: right;\">\n",
       "      <th></th>\n",
       "      <th>UID</th>\n",
       "      <th>ID</th>\n",
       "      <th>Odds</th>\n",
       "    </tr>\n",
       "  </thead>\n",
       "  <tbody>\n",
       "    <tr>\n",
       "      <th>count</th>\n",
       "      <td>38248.000000</td>\n",
       "      <td>38248.000000</td>\n",
       "      <td>38248.000000</td>\n",
       "    </tr>\n",
       "    <tr>\n",
       "      <th>mean</th>\n",
       "      <td>19124.500000</td>\n",
       "      <td>1013.308251</td>\n",
       "      <td>10.994968</td>\n",
       "    </tr>\n",
       "    <tr>\n",
       "      <th>std</th>\n",
       "      <td>11041.390885</td>\n",
       "      <td>917.941098</td>\n",
       "      <td>11.004589</td>\n",
       "    </tr>\n",
       "    <tr>\n",
       "      <th>min</th>\n",
       "      <td>1.000000</td>\n",
       "      <td>1.000000</td>\n",
       "      <td>1.070000</td>\n",
       "    </tr>\n",
       "    <tr>\n",
       "      <th>25%</th>\n",
       "      <td>9562.750000</td>\n",
       "      <td>318.000000</td>\n",
       "      <td>5.000000</td>\n",
       "    </tr>\n",
       "    <tr>\n",
       "      <th>50%</th>\n",
       "      <td>19124.500000</td>\n",
       "      <td>749.000000</td>\n",
       "      <td>8.000000</td>\n",
       "    </tr>\n",
       "    <tr>\n",
       "      <th>75%</th>\n",
       "      <td>28686.250000</td>\n",
       "      <td>1419.000000</td>\n",
       "      <td>13.000000</td>\n",
       "    </tr>\n",
       "    <tr>\n",
       "      <th>max</th>\n",
       "      <td>38248.000000</td>\n",
       "      <td>4383.000000</td>\n",
       "      <td>407.000000</td>\n",
       "    </tr>\n",
       "  </tbody>\n",
       "</table>\n",
       "</div>"
      ],
      "text/plain": [
       "                UID            ID          Odds\n",
       "count  38248.000000  38248.000000  38248.000000\n",
       "mean   19124.500000   1013.308251     10.994968\n",
       "std    11041.390885    917.941098     11.004589\n",
       "min        1.000000      1.000000      1.070000\n",
       "25%     9562.750000    318.000000      5.000000\n",
       "50%    19124.500000    749.000000      8.000000\n",
       "75%    28686.250000   1419.000000     13.000000\n",
       "max    38248.000000   4383.000000    407.000000"
      ]
     },
     "execution_count": 4,
     "metadata": {},
     "output_type": "execute_result"
    }
   ],
   "source": [
    "df.describe()"
   ]
  },
  {
   "cell_type": "code",
   "execution_count": 5,
   "id": "01995938",
   "metadata": {},
   "outputs": [
    {
     "name": "stdout",
     "output_type": "stream",
     "text": [
      "<class 'pandas.core.frame.DataFrame'>\n",
      "RangeIndex: 38248 entries, 0 to 38247\n",
      "Data columns (total 10 columns):\n",
      " #   Column         Non-Null Count  Dtype  \n",
      "---  ------         --------------  -----  \n",
      " 0   UID            38248 non-null  int64  \n",
      " 1   ID             38248 non-null  int64  \n",
      " 2   Tipster        38248 non-null  object \n",
      " 3   Date           38248 non-null  object \n",
      " 4   Track          38248 non-null  object \n",
      " 5   Horse          38248 non-null  object \n",
      " 6   Bet Type       38248 non-null  object \n",
      " 7   Odds           38248 non-null  float64\n",
      " 8   Result         38248 non-null  object \n",
      " 9   TipsterActive  38248 non-null  bool   \n",
      "dtypes: bool(1), float64(1), int64(2), object(6)\n",
      "memory usage: 2.7+ MB\n"
     ]
    }
   ],
   "source": [
    "df.info()"
   ]
  },
  {
   "cell_type": "code",
   "execution_count": 6,
   "id": "da7762b4",
   "metadata": {},
   "outputs": [
    {
     "data": {
      "text/plain": [
       "UID              False\n",
       "ID               False\n",
       "Tipster          False\n",
       "Date             False\n",
       "Track            False\n",
       "Horse            False\n",
       "Bet Type         False\n",
       "Odds             False\n",
       "Result           False\n",
       "TipsterActive    False\n",
       "dtype: bool"
      ]
     },
     "execution_count": 6,
     "metadata": {},
     "output_type": "execute_result"
    }
   ],
   "source": [
    "df.isna().any()"
   ]
  },
  {
   "cell_type": "code",
   "execution_count": 7,
   "id": "6516c84b",
   "metadata": {},
   "outputs": [
    {
     "data": {
      "text/html": [
       "<div>\n",
       "<style scoped>\n",
       "    .dataframe tbody tr th:only-of-type {\n",
       "        vertical-align: middle;\n",
       "    }\n",
       "\n",
       "    .dataframe tbody tr th {\n",
       "        vertical-align: top;\n",
       "    }\n",
       "\n",
       "    .dataframe thead th {\n",
       "        text-align: right;\n",
       "    }\n",
       "</style>\n",
       "<table border=\"1\" class=\"dataframe\">\n",
       "  <thead>\n",
       "    <tr style=\"text-align: right;\">\n",
       "      <th></th>\n",
       "      <th>Tipster</th>\n",
       "      <th>Date</th>\n",
       "      <th>Track</th>\n",
       "      <th>Horse</th>\n",
       "      <th>Bet Type</th>\n",
       "      <th>Odds</th>\n",
       "      <th>TipsterActive</th>\n",
       "    </tr>\n",
       "  </thead>\n",
       "  <tbody>\n",
       "    <tr>\n",
       "      <th>0</th>\n",
       "      <td>Tipster A</td>\n",
       "      <td>24/07/2015</td>\n",
       "      <td>Ascot</td>\n",
       "      <td>Fredricka</td>\n",
       "      <td>Win</td>\n",
       "      <td>8.00</td>\n",
       "      <td>True</td>\n",
       "    </tr>\n",
       "    <tr>\n",
       "      <th>1</th>\n",
       "      <td>Tipster A</td>\n",
       "      <td>24/07/2015</td>\n",
       "      <td>Thirsk</td>\n",
       "      <td>Spend A Penny</td>\n",
       "      <td>Win</td>\n",
       "      <td>4.50</td>\n",
       "      <td>True</td>\n",
       "    </tr>\n",
       "    <tr>\n",
       "      <th>2</th>\n",
       "      <td>Tipster A</td>\n",
       "      <td>24/07/2015</td>\n",
       "      <td>York</td>\n",
       "      <td>Straightothepoint</td>\n",
       "      <td>Win</td>\n",
       "      <td>7.00</td>\n",
       "      <td>True</td>\n",
       "    </tr>\n",
       "    <tr>\n",
       "      <th>3</th>\n",
       "      <td>Tipster A</td>\n",
       "      <td>24/07/2015</td>\n",
       "      <td>Newmarket</td>\n",
       "      <td>Miss Inga Sock</td>\n",
       "      <td>Win</td>\n",
       "      <td>5.00</td>\n",
       "      <td>True</td>\n",
       "    </tr>\n",
       "    <tr>\n",
       "      <th>4</th>\n",
       "      <td>Tipster A</td>\n",
       "      <td>25/07/2015</td>\n",
       "      <td>Ascot</td>\n",
       "      <td>Peril</td>\n",
       "      <td>Win</td>\n",
       "      <td>4.33</td>\n",
       "      <td>True</td>\n",
       "    </tr>\n",
       "    <tr>\n",
       "      <th>...</th>\n",
       "      <td>...</td>\n",
       "      <td>...</td>\n",
       "      <td>...</td>\n",
       "      <td>...</td>\n",
       "      <td>...</td>\n",
       "      <td>...</td>\n",
       "      <td>...</td>\n",
       "    </tr>\n",
       "    <tr>\n",
       "      <th>38243</th>\n",
       "      <td>Tipster E1</td>\n",
       "      <td>02/04/2016</td>\n",
       "      <td>Kempton</td>\n",
       "      <td>Solar Flair</td>\n",
       "      <td>Win</td>\n",
       "      <td>7.00</td>\n",
       "      <td>False</td>\n",
       "    </tr>\n",
       "    <tr>\n",
       "      <th>38244</th>\n",
       "      <td>Tipster E1</td>\n",
       "      <td>02/04/2016</td>\n",
       "      <td>Doncaster</td>\n",
       "      <td>Express Himself</td>\n",
       "      <td>Each Way</td>\n",
       "      <td>12.00</td>\n",
       "      <td>False</td>\n",
       "    </tr>\n",
       "    <tr>\n",
       "      <th>38245</th>\n",
       "      <td>Tipster E1</td>\n",
       "      <td>02/04/2016</td>\n",
       "      <td>Doncaster</td>\n",
       "      <td>Jack Dexter</td>\n",
       "      <td>Win</td>\n",
       "      <td>7.00</td>\n",
       "      <td>False</td>\n",
       "    </tr>\n",
       "    <tr>\n",
       "      <th>38246</th>\n",
       "      <td>Tipster E1</td>\n",
       "      <td>02/04/2016</td>\n",
       "      <td>Kelso</td>\n",
       "      <td>Just Cameron</td>\n",
       "      <td>Win</td>\n",
       "      <td>4.33</td>\n",
       "      <td>False</td>\n",
       "    </tr>\n",
       "    <tr>\n",
       "      <th>38247</th>\n",
       "      <td>Tipster E1</td>\n",
       "      <td>31/05/2016</td>\n",
       "      <td>Redcar</td>\n",
       "      <td>Dream Farr</td>\n",
       "      <td>Win</td>\n",
       "      <td>5.00</td>\n",
       "      <td>False</td>\n",
       "    </tr>\n",
       "  </tbody>\n",
       "</table>\n",
       "<p>38248 rows × 7 columns</p>\n",
       "</div>"
      ],
      "text/plain": [
       "          Tipster        Date      Track              Horse  Bet Type   Odds  \\\n",
       "0       Tipster A  24/07/2015      Ascot          Fredricka       Win   8.00   \n",
       "1       Tipster A  24/07/2015     Thirsk      Spend A Penny       Win   4.50   \n",
       "2       Tipster A  24/07/2015       York  Straightothepoint       Win   7.00   \n",
       "3       Tipster A  24/07/2015  Newmarket     Miss Inga Sock       Win   5.00   \n",
       "4       Tipster A  25/07/2015      Ascot              Peril       Win   4.33   \n",
       "...           ...         ...        ...                ...       ...    ...   \n",
       "38243  Tipster E1  02/04/2016    Kempton        Solar Flair       Win   7.00   \n",
       "38244  Tipster E1  02/04/2016  Doncaster    Express Himself  Each Way  12.00   \n",
       "38245  Tipster E1  02/04/2016  Doncaster        Jack Dexter       Win   7.00   \n",
       "38246  Tipster E1  02/04/2016      Kelso       Just Cameron       Win   4.33   \n",
       "38247  Tipster E1  31/05/2016     Redcar         Dream Farr       Win   5.00   \n",
       "\n",
       "       TipsterActive  \n",
       "0               True  \n",
       "1               True  \n",
       "2               True  \n",
       "3               True  \n",
       "4               True  \n",
       "...              ...  \n",
       "38243          False  \n",
       "38244          False  \n",
       "38245          False  \n",
       "38246          False  \n",
       "38247          False  \n",
       "\n",
       "[38248 rows x 7 columns]"
      ]
     },
     "execution_count": 7,
     "metadata": {},
     "output_type": "execute_result"
    }
   ],
   "source": [
    "x=df.iloc[:,[2,3,4,5,6,7,9]]\n",
    "y=df.iloc[:,8:9]\n",
    "x"
   ]
  },
  {
   "cell_type": "code",
   "execution_count": 8,
   "id": "a63f86f8",
   "metadata": {},
   "outputs": [
    {
     "data": {
      "text/html": [
       "<div>\n",
       "<style scoped>\n",
       "    .dataframe tbody tr th:only-of-type {\n",
       "        vertical-align: middle;\n",
       "    }\n",
       "\n",
       "    .dataframe tbody tr th {\n",
       "        vertical-align: top;\n",
       "    }\n",
       "\n",
       "    .dataframe thead th {\n",
       "        text-align: right;\n",
       "    }\n",
       "</style>\n",
       "<table border=\"1\" class=\"dataframe\">\n",
       "  <thead>\n",
       "    <tr style=\"text-align: right;\">\n",
       "      <th></th>\n",
       "      <th>Result</th>\n",
       "    </tr>\n",
       "  </thead>\n",
       "  <tbody>\n",
       "    <tr>\n",
       "      <th>0</th>\n",
       "      <td>Lose</td>\n",
       "    </tr>\n",
       "    <tr>\n",
       "      <th>1</th>\n",
       "      <td>Lose</td>\n",
       "    </tr>\n",
       "    <tr>\n",
       "      <th>2</th>\n",
       "      <td>Lose</td>\n",
       "    </tr>\n",
       "    <tr>\n",
       "      <th>3</th>\n",
       "      <td>Lose</td>\n",
       "    </tr>\n",
       "    <tr>\n",
       "      <th>4</th>\n",
       "      <td>Win</td>\n",
       "    </tr>\n",
       "    <tr>\n",
       "      <th>...</th>\n",
       "      <td>...</td>\n",
       "    </tr>\n",
       "    <tr>\n",
       "      <th>38243</th>\n",
       "      <td>Lose</td>\n",
       "    </tr>\n",
       "    <tr>\n",
       "      <th>38244</th>\n",
       "      <td>Lose</td>\n",
       "    </tr>\n",
       "    <tr>\n",
       "      <th>38245</th>\n",
       "      <td>Lose</td>\n",
       "    </tr>\n",
       "    <tr>\n",
       "      <th>38246</th>\n",
       "      <td>Lose</td>\n",
       "    </tr>\n",
       "    <tr>\n",
       "      <th>38247</th>\n",
       "      <td>Lose</td>\n",
       "    </tr>\n",
       "  </tbody>\n",
       "</table>\n",
       "<p>38248 rows × 1 columns</p>\n",
       "</div>"
      ],
      "text/plain": [
       "      Result\n",
       "0       Lose\n",
       "1       Lose\n",
       "2       Lose\n",
       "3       Lose\n",
       "4        Win\n",
       "...      ...\n",
       "38243   Lose\n",
       "38244   Lose\n",
       "38245   Lose\n",
       "38246   Lose\n",
       "38247   Lose\n",
       "\n",
       "[38248 rows x 1 columns]"
      ]
     },
     "execution_count": 8,
     "metadata": {},
     "output_type": "execute_result"
    }
   ],
   "source": [
    "y"
   ]
  },
  {
   "cell_type": "code",
   "execution_count": 9,
   "id": "b0081c3d",
   "metadata": {},
   "outputs": [
    {
     "name": "stderr",
     "output_type": "stream",
     "text": [
      "<ipython-input-9-91da4de41028>:5: SettingWithCopyWarning: \n",
      "A value is trying to be set on a copy of a slice from a DataFrame.\n",
      "Try using .loc[row_indexer,col_indexer] = value instead\n",
      "\n",
      "See the caveats in the documentation: https://pandas.pydata.org/pandas-docs/stable/user_guide/indexing.html#returning-a-view-versus-a-copy\n",
      "  x[col]=le.fit_transform(x[col])\n"
     ]
    },
    {
     "data": {
      "text/html": [
       "<div>\n",
       "<style scoped>\n",
       "    .dataframe tbody tr th:only-of-type {\n",
       "        vertical-align: middle;\n",
       "    }\n",
       "\n",
       "    .dataframe tbody tr th {\n",
       "        vertical-align: top;\n",
       "    }\n",
       "\n",
       "    .dataframe thead th {\n",
       "        text-align: right;\n",
       "    }\n",
       "</style>\n",
       "<table border=\"1\" class=\"dataframe\">\n",
       "  <thead>\n",
       "    <tr style=\"text-align: right;\">\n",
       "      <th></th>\n",
       "      <th>Tipster</th>\n",
       "      <th>Date</th>\n",
       "      <th>Track</th>\n",
       "      <th>Horse</th>\n",
       "      <th>Bet Type</th>\n",
       "      <th>Odds</th>\n",
       "      <th>TipsterActive</th>\n",
       "    </tr>\n",
       "  </thead>\n",
       "  <tbody>\n",
       "    <tr>\n",
       "      <th>0</th>\n",
       "      <td>0</td>\n",
       "      <td>818</td>\n",
       "      <td>2</td>\n",
       "      <td>5157</td>\n",
       "      <td>1</td>\n",
       "      <td>8.00</td>\n",
       "      <td>1</td>\n",
       "    </tr>\n",
       "    <tr>\n",
       "      <th>1</th>\n",
       "      <td>0</td>\n",
       "      <td>818</td>\n",
       "      <td>96</td>\n",
       "      <td>13103</td>\n",
       "      <td>1</td>\n",
       "      <td>4.50</td>\n",
       "      <td>1</td>\n",
       "    </tr>\n",
       "    <tr>\n",
       "      <th>2</th>\n",
       "      <td>0</td>\n",
       "      <td>818</td>\n",
       "      <td>114</td>\n",
       "      <td>13406</td>\n",
       "      <td>1</td>\n",
       "      <td>7.00</td>\n",
       "      <td>1</td>\n",
       "    </tr>\n",
       "    <tr>\n",
       "      <th>3</th>\n",
       "      <td>0</td>\n",
       "      <td>818</td>\n",
       "      <td>74</td>\n",
       "      <td>8974</td>\n",
       "      <td>1</td>\n",
       "      <td>5.00</td>\n",
       "      <td>1</td>\n",
       "    </tr>\n",
       "    <tr>\n",
       "      <th>4</th>\n",
       "      <td>0</td>\n",
       "      <td>851</td>\n",
       "      <td>2</td>\n",
       "      <td>10550</td>\n",
       "      <td>1</td>\n",
       "      <td>4.33</td>\n",
       "      <td>1</td>\n",
       "    </tr>\n",
       "  </tbody>\n",
       "</table>\n",
       "</div>"
      ],
      "text/plain": [
       "   Tipster  Date  Track  Horse  Bet Type  Odds  TipsterActive\n",
       "0        0   818      2   5157         1  8.00              1\n",
       "1        0   818     96  13103         1  4.50              1\n",
       "2        0   818    114  13406         1  7.00              1\n",
       "3        0   818     74   8974         1  5.00              1\n",
       "4        0   851      2  10550         1  4.33              1"
      ]
     },
     "execution_count": 9,
     "metadata": {},
     "output_type": "execute_result"
    }
   ],
   "source": [
    "from sklearn.preprocessing import LabelEncoder\n",
    "le=LabelEncoder()\n",
    "columns=[\"Tipster\",\"Date\",\"Track\",\"Horse\",\"Bet Type\",\"TipsterActive\"]\n",
    "for col in columns:\n",
    "    x[col]=le.fit_transform(x[col])\n",
    "x.head()"
   ]
  },
  {
   "cell_type": "code",
   "execution_count": 10,
   "id": "012eb987",
   "metadata": {},
   "outputs": [
    {
     "name": "stderr",
     "output_type": "stream",
     "text": [
      "C:\\Users\\Rohit Anand\\anaconda3\\lib\\site-packages\\sklearn\\utils\\validation.py:63: DataConversionWarning: A column-vector y was passed when a 1d array was expected. Please change the shape of y to (n_samples, ), for example using ravel().\n",
      "  return f(*args, **kwargs)\n"
     ]
    },
    {
     "data": {
      "text/html": [
       "<div>\n",
       "<style scoped>\n",
       "    .dataframe tbody tr th:only-of-type {\n",
       "        vertical-align: middle;\n",
       "    }\n",
       "\n",
       "    .dataframe tbody tr th {\n",
       "        vertical-align: top;\n",
       "    }\n",
       "\n",
       "    .dataframe thead th {\n",
       "        text-align: right;\n",
       "    }\n",
       "</style>\n",
       "<table border=\"1\" class=\"dataframe\">\n",
       "  <thead>\n",
       "    <tr style=\"text-align: right;\">\n",
       "      <th></th>\n",
       "      <th>Result</th>\n",
       "    </tr>\n",
       "  </thead>\n",
       "  <tbody>\n",
       "    <tr>\n",
       "      <th>0</th>\n",
       "      <td>0</td>\n",
       "    </tr>\n",
       "    <tr>\n",
       "      <th>1</th>\n",
       "      <td>0</td>\n",
       "    </tr>\n",
       "    <tr>\n",
       "      <th>2</th>\n",
       "      <td>0</td>\n",
       "    </tr>\n",
       "    <tr>\n",
       "      <th>3</th>\n",
       "      <td>0</td>\n",
       "    </tr>\n",
       "    <tr>\n",
       "      <th>4</th>\n",
       "      <td>1</td>\n",
       "    </tr>\n",
       "  </tbody>\n",
       "</table>\n",
       "</div>"
      ],
      "text/plain": [
       "   Result\n",
       "0       0\n",
       "1       0\n",
       "2       0\n",
       "3       0\n",
       "4       1"
      ]
     },
     "execution_count": 10,
     "metadata": {},
     "output_type": "execute_result"
    }
   ],
   "source": [
    "from sklearn.preprocessing import LabelEncoder\n",
    "le=LabelEncoder()\n",
    "y=le.fit_transform(y)\n",
    "y=pd.DataFrame(y,columns=[\"Result\"])\n",
    "y.head()"
   ]
  },
  {
   "cell_type": "code",
   "execution_count": 11,
   "id": "c8eb0485",
   "metadata": {},
   "outputs": [],
   "source": [
    "from sklearn.preprocessing import StandardScaler\n",
    "ss=StandardScaler()\n",
    "scaled_x=ss.fit_transform(x)\n",
    "scaled_x=pd.DataFrame(scaled_x,columns=x.columns)"
   ]
  },
  {
   "cell_type": "markdown",
   "id": "4805cc25",
   "metadata": {},
   "source": [
    "## Data Splitting"
   ]
  },
  {
   "cell_type": "code",
   "execution_count": 12,
   "id": "4b94f2a3",
   "metadata": {},
   "outputs": [],
   "source": [
    "from sklearn.model_selection import train_test_split\n",
    "x_train,x_test,y_train,y_test=train_test_split(scaled_x,y,test_size=0.30,random_state=0)"
   ]
  },
  {
   "cell_type": "markdown",
   "id": "29585001",
   "metadata": {},
   "source": [
    "## Building Models\n",
    "\n",
    "**Logisitc Regression Model**"
   ]
  },
  {
   "cell_type": "code",
   "execution_count": 13,
   "id": "5e9a6b0f",
   "metadata": {},
   "outputs": [
    {
     "name": "stderr",
     "output_type": "stream",
     "text": [
      "C:\\Users\\Rohit Anand\\anaconda3\\lib\\site-packages\\sklearn\\utils\\validation.py:63: DataConversionWarning: A column-vector y was passed when a 1d array was expected. Please change the shape of y to (n_samples, ), for example using ravel().\n",
      "  return f(*args, **kwargs)\n"
     ]
    },
    {
     "data": {
      "text/html": [
       "<div>\n",
       "<style scoped>\n",
       "    .dataframe tbody tr th:only-of-type {\n",
       "        vertical-align: middle;\n",
       "    }\n",
       "\n",
       "    .dataframe tbody tr th {\n",
       "        vertical-align: top;\n",
       "    }\n",
       "\n",
       "    .dataframe thead th {\n",
       "        text-align: right;\n",
       "    }\n",
       "</style>\n",
       "<table border=\"1\" class=\"dataframe\">\n",
       "  <thead>\n",
       "    <tr style=\"text-align: right;\">\n",
       "      <th></th>\n",
       "      <th>Predicted</th>\n",
       "    </tr>\n",
       "  </thead>\n",
       "  <tbody>\n",
       "    <tr>\n",
       "      <th>0</th>\n",
       "      <td>0</td>\n",
       "    </tr>\n",
       "    <tr>\n",
       "      <th>1</th>\n",
       "      <td>0</td>\n",
       "    </tr>\n",
       "    <tr>\n",
       "      <th>2</th>\n",
       "      <td>0</td>\n",
       "    </tr>\n",
       "    <tr>\n",
       "      <th>3</th>\n",
       "      <td>0</td>\n",
       "    </tr>\n",
       "    <tr>\n",
       "      <th>4</th>\n",
       "      <td>0</td>\n",
       "    </tr>\n",
       "    <tr>\n",
       "      <th>...</th>\n",
       "      <td>...</td>\n",
       "    </tr>\n",
       "    <tr>\n",
       "      <th>11470</th>\n",
       "      <td>0</td>\n",
       "    </tr>\n",
       "    <tr>\n",
       "      <th>11471</th>\n",
       "      <td>0</td>\n",
       "    </tr>\n",
       "    <tr>\n",
       "      <th>11472</th>\n",
       "      <td>0</td>\n",
       "    </tr>\n",
       "    <tr>\n",
       "      <th>11473</th>\n",
       "      <td>0</td>\n",
       "    </tr>\n",
       "    <tr>\n",
       "      <th>11474</th>\n",
       "      <td>0</td>\n",
       "    </tr>\n",
       "  </tbody>\n",
       "</table>\n",
       "<p>11475 rows × 1 columns</p>\n",
       "</div>"
      ],
      "text/plain": [
       "       Predicted\n",
       "0              0\n",
       "1              0\n",
       "2              0\n",
       "3              0\n",
       "4              0\n",
       "...          ...\n",
       "11470          0\n",
       "11471          0\n",
       "11472          0\n",
       "11473          0\n",
       "11474          0\n",
       "\n",
       "[11475 rows x 1 columns]"
      ]
     },
     "execution_count": 13,
     "metadata": {},
     "output_type": "execute_result"
    }
   ],
   "source": [
    "from sklearn.linear_model import LogisticRegression \n",
    "log=LogisticRegression()\n",
    "log.fit(x_train,y_train)\n",
    "log_pred=log.predict(x_test)\n",
    "log_pred=log_pred.reshape(len(log_pred),1)\n",
    "log_predicted=pd.DataFrame(log_pred,columns=['Predicted'])\n",
    "log_predicted"
   ]
  },
  {
   "cell_type": "markdown",
   "id": "7d417e0b",
   "metadata": {},
   "source": [
    "**KNN (K Nearest Neighbors) Model**"
   ]
  },
  {
   "cell_type": "code",
   "execution_count": 14,
   "id": "d2b3aa88",
   "metadata": {},
   "outputs": [
    {
     "name": "stderr",
     "output_type": "stream",
     "text": [
      "C:\\Users\\Rohit Anand\\anaconda3\\lib\\site-packages\\sklearn\\neighbors\\_classification.py:179: DataConversionWarning: A column-vector y was passed when a 1d array was expected. Please change the shape of y to (n_samples,), for example using ravel().\n",
      "  return self._fit(X, y)\n"
     ]
    },
    {
     "data": {
      "text/plain": [
       "array([0, 0, 1, ..., 0, 1, 0])"
      ]
     },
     "execution_count": 14,
     "metadata": {},
     "output_type": "execute_result"
    }
   ],
   "source": [
    "from sklearn.neighbors import KNeighborsClassifier\n",
    "knn=KNeighborsClassifier(n_neighbors=5,metric='minkowski',p=2)\n",
    "knn.fit(x_train,y_train)\n",
    "knn_pred=knn.predict(x_test)\n",
    "knn_pred"
   ]
  },
  {
   "cell_type": "markdown",
   "id": "3705ccda",
   "metadata": {},
   "source": [
    "**Decision Tree Model**"
   ]
  },
  {
   "cell_type": "code",
   "execution_count": 16,
   "id": "ebe8854a",
   "metadata": {},
   "outputs": [
    {
     "name": "stdout",
     "output_type": "stream",
     "text": [
      "[0 0 1 ... 0 1 0]\n",
      "[[0 0]\n",
      " [0 0]\n",
      " [1 0]\n",
      " ...\n",
      " [0 0]\n",
      " [1 0]\n",
      " [0 1]]\n"
     ]
    }
   ],
   "source": [
    "from sklearn.tree import DecisionTreeClassifier\n",
    "decision_tree=DecisionTreeClassifier(criterion='entropy',random_state=0)\n",
    "decision_tree.fit(x_train,y_train)\n",
    "dt_pred=decision_tree.predict(x_test)\n",
    "print(dt_pred)\n",
    "print(np.concatenate((dt_pred.reshape(-1,1),np.array(y_test).reshape(-1,1)),1))"
   ]
  },
  {
   "cell_type": "markdown",
   "id": "017b2c60",
   "metadata": {},
   "source": [
    "**Naive Bayes Model**"
   ]
  },
  {
   "cell_type": "code",
   "execution_count": 17,
   "id": "8b81f310",
   "metadata": {},
   "outputs": [
    {
     "name": "stderr",
     "output_type": "stream",
     "text": [
      "C:\\Users\\Rohit Anand\\anaconda3\\lib\\site-packages\\sklearn\\utils\\validation.py:63: DataConversionWarning: A column-vector y was passed when a 1d array was expected. Please change the shape of y to (n_samples, ), for example using ravel().\n",
      "  return f(*args, **kwargs)\n"
     ]
    },
    {
     "data": {
      "text/plain": [
       "array([0, 0, 0, ..., 0, 0, 0])"
      ]
     },
     "execution_count": 17,
     "metadata": {},
     "output_type": "execute_result"
    }
   ],
   "source": [
    "from sklearn.naive_bayes import GaussianNB\n",
    "NB = GaussianNB()\n",
    "NB.fit(x_train, y_train)\n",
    "NB_pred = NB.predict(x_test)\n",
    "NB_pred"
   ]
  },
  {
   "cell_type": "markdown",
   "id": "2719c0b8",
   "metadata": {},
   "source": [
    "## Performance Evaluation\n",
    "**Calculating and displaying classification report, confusion report, accuracy for <br>\n",
    "Logistic Regression model** "
   ]
  },
  {
   "cell_type": "code",
   "execution_count": 18,
   "id": "2733c8e8",
   "metadata": {},
   "outputs": [
    {
     "name": "stdout",
     "output_type": "stream",
     "text": [
      "\t\tLogistic Regression's Classification Report\n",
      "\n",
      "               precision    recall  f1-score   support\n",
      "\n",
      "           0       0.81      1.00      0.89      9237\n",
      "           1       0.52      0.01      0.01      2238\n",
      "\n",
      "    accuracy                           0.81     11475\n",
      "   macro avg       0.66      0.50      0.45     11475\n",
      "weighted avg       0.75      0.81      0.72     11475\n",
      "\n",
      "\t\tLogistic Regression's Confusion Matrix\n",
      "\n",
      " [[9222   15]\n",
      " [2222   16]]\n",
      "\n",
      "Logistic Regression's Accuracy Score is  0.8050544662309368\n"
     ]
    }
   ],
   "source": [
    "from sklearn.metrics import classification_report,confusion_matrix,accuracy_score\n",
    "log_cr=classification_report(y_test,log_pred)\n",
    "log_conf=confusion_matrix(y_test,log_pred)\n",
    "log_ac=accuracy_score(y_test,log_pred)\n",
    "print(\"\\t\\tLogistic Regression's Classification Report\\n\\n\",log_cr)\n",
    "print(\"\\t\\tLogistic Regression's Confusion Matrix\\n\\n\",log_conf)\n",
    "print(\"\\nLogistic Regression's Accuracy Score is \",log_ac)"
   ]
  },
  {
   "cell_type": "markdown",
   "id": "600cad6c",
   "metadata": {},
   "source": [
    "**Calculating and displaying classification report, confusion report, accuracy for <br>\n",
    "KNN Classification model** "
   ]
  },
  {
   "cell_type": "code",
   "execution_count": 19,
   "id": "7460bba2",
   "metadata": {},
   "outputs": [
    {
     "name": "stdout",
     "output_type": "stream",
     "text": [
      "\t\tKNN's Classification Report\n",
      "\n",
      "               precision    recall  f1-score   support\n",
      "\n",
      "           0       0.82      0.92      0.87      9237\n",
      "           1       0.30      0.14      0.19      2238\n",
      "\n",
      "    accuracy                           0.77     11475\n",
      "   macro avg       0.56      0.53      0.53     11475\n",
      "weighted avg       0.72      0.77      0.73     11475\n",
      "\n",
      "\t\tKNN's Confusion Matrix\n",
      "\n",
      " [[8538  699]\n",
      " [1934  304]]\n",
      "\n",
      "KNN's Accuracy Score is  0.7705446623093682\n"
     ]
    }
   ],
   "source": [
    "from sklearn.metrics import classification_report,confusion_matrix,accuracy_score\n",
    "knn_cr=classification_report(y_test,knn_pred)\n",
    "knn_conf=confusion_matrix(y_test,knn_pred)\n",
    "knn_ac=accuracy_score(y_test,knn_pred)\n",
    "print(\"\\t\\tKNN's Classification Report\\n\\n\",knn_cr)\n",
    "print(\"\\t\\tKNN's Confusion Matrix\\n\\n\",knn_conf)\n",
    "print(\"\\nKNN's Accuracy Score is \",knn_ac)"
   ]
  },
  {
   "cell_type": "markdown",
   "id": "229cf320",
   "metadata": {},
   "source": [
    "**Calculating and displaying classification report, confusion report, accuracy for <br>\n",
    "Decision Tree Classification model** "
   ]
  },
  {
   "cell_type": "code",
   "execution_count": 20,
   "id": "0da9d0d1",
   "metadata": {},
   "outputs": [
    {
     "name": "stdout",
     "output_type": "stream",
     "text": [
      "\t\tDecision Tree's Classification Report\n",
      "\n",
      "               precision    recall  f1-score   support\n",
      "\n",
      "           0       0.83      0.81      0.82      9237\n",
      "           1       0.29      0.31      0.30      2238\n",
      "\n",
      "    accuracy                           0.71     11475\n",
      "   macro avg       0.56      0.56      0.56     11475\n",
      "weighted avg       0.72      0.71      0.72     11475\n",
      "\n",
      "\t\tDecision Tree's  Confusion Matrix\n",
      "\n",
      " [[7493 1744]\n",
      " [1539  699]]\n",
      "\n",
      "Decision Tree's Accuracy Score is  0.7138997821350762\n"
     ]
    }
   ],
   "source": [
    "from sklearn.metrics import classification_report,confusion_matrix,accuracy_score\n",
    "dt_cr=classification_report(y_test,dt_pred)\n",
    "dt_conf=confusion_matrix(y_test,dt_pred)\n",
    "dt_ac=accuracy_score(y_test,dt_pred)\n",
    "print(\"\\t\\tDecision Tree's Classification Report\\n\\n\",dt_cr)\n",
    "print(\"\\t\\tDecision Tree's  Confusion Matrix\\n\\n\",dt_conf)\n",
    "print(\"\\nDecision Tree's Accuracy Score is \",dt_ac)"
   ]
  },
  {
   "cell_type": "markdown",
   "id": "0cd0b267",
   "metadata": {},
   "source": [
    "**Calculating and displaying classification report, confusion report, accuracy for <br>\n",
    "Naive Bayes Classification model** "
   ]
  },
  {
   "cell_type": "code",
   "execution_count": 21,
   "id": "ac0c46cd",
   "metadata": {},
   "outputs": [
    {
     "name": "stdout",
     "output_type": "stream",
     "text": [
      "\t\tNaive Bayes's Classification Report\n",
      "\n",
      "               precision    recall  f1-score   support\n",
      "\n",
      "           0       0.81      1.00      0.89      9237\n",
      "           1       0.41      0.01      0.02      2238\n",
      "\n",
      "    accuracy                           0.80     11475\n",
      "   macro avg       0.61      0.50      0.46     11475\n",
      "weighted avg       0.73      0.80      0.72     11475\n",
      "\n",
      "\t\tNaive Bayes's  Confusion Matrix\n",
      "\n",
      " [[9200   37]\n",
      " [2212   26]]\n",
      "\n",
      "Naive Bayes's Accuracy Score is  0.8040087145969499\n"
     ]
    }
   ],
   "source": [
    "from sklearn.metrics import classification_report,confusion_matrix,accuracy_score\n",
    "NB_cr=classification_report(y_test,NB_pred)\n",
    "NB_conf=confusion_matrix(y_test,NB_pred)\n",
    "NB_ac=accuracy_score(y_test,NB_pred)\n",
    "print(\"\\t\\tNaive Bayes's Classification Report\\n\\n\",NB_cr)\n",
    "print(\"\\t\\tNaive Bayes's  Confusion Matrix\\n\\n\",NB_conf)\n",
    "print(\"\\nNaive Bayes's Accuracy Score is \",NB_ac)"
   ]
  },
  {
   "cell_type": "code",
   "execution_count": null,
   "id": "744e9cb8",
   "metadata": {},
   "outputs": [],
   "source": []
  }
 ],
 "metadata": {
  "kernelspec": {
   "display_name": "Python 3",
   "language": "python",
   "name": "python3"
  },
  "language_info": {
   "codemirror_mode": {
    "name": "ipython",
    "version": 3
   },
   "file_extension": ".py",
   "mimetype": "text/x-python",
   "name": "python",
   "nbconvert_exporter": "python",
   "pygments_lexer": "ipython3",
   "version": "3.8.8"
  }
 },
 "nbformat": 4,
 "nbformat_minor": 5
}
